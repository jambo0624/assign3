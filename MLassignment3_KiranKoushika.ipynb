{
 "cells": [
  {
   "cell_type": "code",
   "execution_count": 1,
   "id": "311e1def",
   "metadata": {},
   "outputs": [],
   "source": [
    "import pandas as pd\n",
    "import numpy as np\n",
    "from sklearn.utils import resample\n",
    "import matplotlib.pyplot as plt\n",
    "import seaborn as sns\n",
    "from sklearn.model_selection import train_test_split\n",
    "from sklearn.preprocessing import StandardScaler\n",
    "from sklearn.metrics import accuracy_score, precision_score, recall_score,f1_score,classification_report,silhouette_score\n",
    "from sklearn.ensemble import RandomForestClassifier\n",
    "from sklearn.svm import SVC\n",
    "from sklearn.mixture import GaussianMixture\n",
    "from sklearn.preprocessing import LabelEncoder\n",
    "from sklearn.decomposition import PCA\n",
    "ml_train_df=pd.read_csv(\"C:/Users/kiran/Downloads/train-3 (1).csv\")\n",
    "ml_test_df=pd.read_csv(\"C:/Users/kiran/Downloads/test-4 (1).csv\")"
   ]
  },
  {
   "cell_type": "code",
   "execution_count": 2,
   "id": "43a8f712",
   "metadata": {},
   "outputs": [
    {
     "data": {
      "text/html": [
       "<div>\n",
       "<style scoped>\n",
       "    .dataframe tbody tr th:only-of-type {\n",
       "        vertical-align: middle;\n",
       "    }\n",
       "\n",
       "    .dataframe tbody tr th {\n",
       "        vertical-align: top;\n",
       "    }\n",
       "\n",
       "    .dataframe thead th {\n",
       "        text-align: right;\n",
       "    }\n",
       "</style>\n",
       "<table border=\"1\" class=\"dataframe\">\n",
       "  <thead>\n",
       "    <tr style=\"text-align: right;\">\n",
       "      <th></th>\n",
       "      <th>COUGH</th>\n",
       "      <th>MUSCLE_ACHES</th>\n",
       "      <th>TIREDNESS</th>\n",
       "      <th>SORE_THROAT</th>\n",
       "      <th>RUNNY_NOSE</th>\n",
       "      <th>STUFFY_NOSE</th>\n",
       "      <th>FEVER</th>\n",
       "      <th>NAUSEA</th>\n",
       "      <th>VOMITING</th>\n",
       "      <th>DIARRHEA</th>\n",
       "      <th>...</th>\n",
       "      <th>DIFFICULTY_BREATHING</th>\n",
       "      <th>LOSS_OF_TASTE</th>\n",
       "      <th>LOSS_OF_SMELL</th>\n",
       "      <th>ITCHY_NOSE</th>\n",
       "      <th>ITCHY_EYES</th>\n",
       "      <th>ITCHY_MOUTH</th>\n",
       "      <th>ITCHY_INNER_EAR</th>\n",
       "      <th>SNEEZING</th>\n",
       "      <th>PINK_EYE</th>\n",
       "      <th>TYPE</th>\n",
       "    </tr>\n",
       "  </thead>\n",
       "  <tbody>\n",
       "    <tr>\n",
       "      <th>0</th>\n",
       "      <td>1</td>\n",
       "      <td>1</td>\n",
       "      <td>1</td>\n",
       "      <td>0</td>\n",
       "      <td>0</td>\n",
       "      <td>0</td>\n",
       "      <td>0</td>\n",
       "      <td>0</td>\n",
       "      <td>0</td>\n",
       "      <td>0</td>\n",
       "      <td>...</td>\n",
       "      <td>1</td>\n",
       "      <td>1</td>\n",
       "      <td>0</td>\n",
       "      <td>0</td>\n",
       "      <td>0</td>\n",
       "      <td>0</td>\n",
       "      <td>0</td>\n",
       "      <td>1</td>\n",
       "      <td>0</td>\n",
       "      <td>FLU</td>\n",
       "    </tr>\n",
       "    <tr>\n",
       "      <th>1</th>\n",
       "      <td>1</td>\n",
       "      <td>0</td>\n",
       "      <td>1</td>\n",
       "      <td>0</td>\n",
       "      <td>0</td>\n",
       "      <td>1</td>\n",
       "      <td>0</td>\n",
       "      <td>0</td>\n",
       "      <td>0</td>\n",
       "      <td>1</td>\n",
       "      <td>...</td>\n",
       "      <td>1</td>\n",
       "      <td>1</td>\n",
       "      <td>0</td>\n",
       "      <td>0</td>\n",
       "      <td>0</td>\n",
       "      <td>0</td>\n",
       "      <td>0</td>\n",
       "      <td>1</td>\n",
       "      <td>0</td>\n",
       "      <td>FLU</td>\n",
       "    </tr>\n",
       "    <tr>\n",
       "      <th>2</th>\n",
       "      <td>0</td>\n",
       "      <td>1</td>\n",
       "      <td>1</td>\n",
       "      <td>1</td>\n",
       "      <td>1</td>\n",
       "      <td>1</td>\n",
       "      <td>1</td>\n",
       "      <td>0</td>\n",
       "      <td>0</td>\n",
       "      <td>0</td>\n",
       "      <td>...</td>\n",
       "      <td>0</td>\n",
       "      <td>0</td>\n",
       "      <td>1</td>\n",
       "      <td>0</td>\n",
       "      <td>0</td>\n",
       "      <td>0</td>\n",
       "      <td>0</td>\n",
       "      <td>0</td>\n",
       "      <td>0</td>\n",
       "      <td>FLU</td>\n",
       "    </tr>\n",
       "    <tr>\n",
       "      <th>3</th>\n",
       "      <td>0</td>\n",
       "      <td>1</td>\n",
       "      <td>1</td>\n",
       "      <td>0</td>\n",
       "      <td>1</td>\n",
       "      <td>0</td>\n",
       "      <td>0</td>\n",
       "      <td>0</td>\n",
       "      <td>1</td>\n",
       "      <td>1</td>\n",
       "      <td>...</td>\n",
       "      <td>0</td>\n",
       "      <td>0</td>\n",
       "      <td>0</td>\n",
       "      <td>0</td>\n",
       "      <td>0</td>\n",
       "      <td>0</td>\n",
       "      <td>0</td>\n",
       "      <td>1</td>\n",
       "      <td>0</td>\n",
       "      <td>FLU</td>\n",
       "    </tr>\n",
       "    <tr>\n",
       "      <th>4</th>\n",
       "      <td>1</td>\n",
       "      <td>0</td>\n",
       "      <td>1</td>\n",
       "      <td>1</td>\n",
       "      <td>0</td>\n",
       "      <td>0</td>\n",
       "      <td>0</td>\n",
       "      <td>0</td>\n",
       "      <td>1</td>\n",
       "      <td>1</td>\n",
       "      <td>...</td>\n",
       "      <td>1</td>\n",
       "      <td>0</td>\n",
       "      <td>0</td>\n",
       "      <td>0</td>\n",
       "      <td>0</td>\n",
       "      <td>0</td>\n",
       "      <td>0</td>\n",
       "      <td>0</td>\n",
       "      <td>0</td>\n",
       "      <td>FLU</td>\n",
       "    </tr>\n",
       "  </tbody>\n",
       "</table>\n",
       "<p>5 rows × 21 columns</p>\n",
       "</div>"
      ],
      "text/plain": [
       "   COUGH  MUSCLE_ACHES  TIREDNESS  SORE_THROAT  RUNNY_NOSE  STUFFY_NOSE  \\\n",
       "0      1             1          1            0           0            0   \n",
       "1      1             0          1            0           0            1   \n",
       "2      0             1          1            1           1            1   \n",
       "3      0             1          1            0           1            0   \n",
       "4      1             0          1            1           0            0   \n",
       "\n",
       "   FEVER  NAUSEA  VOMITING  DIARRHEA  ...  DIFFICULTY_BREATHING  \\\n",
       "0      0       0         0         0  ...                     1   \n",
       "1      0       0         0         1  ...                     1   \n",
       "2      1       0         0         0  ...                     0   \n",
       "3      0       0         1         1  ...                     0   \n",
       "4      0       0         1         1  ...                     1   \n",
       "\n",
       "   LOSS_OF_TASTE  LOSS_OF_SMELL  ITCHY_NOSE  ITCHY_EYES  ITCHY_MOUTH  \\\n",
       "0              1              0           0           0            0   \n",
       "1              1              0           0           0            0   \n",
       "2              0              1           0           0            0   \n",
       "3              0              0           0           0            0   \n",
       "4              0              0           0           0            0   \n",
       "\n",
       "   ITCHY_INNER_EAR  SNEEZING  PINK_EYE  TYPE  \n",
       "0                0         1         0   FLU  \n",
       "1                0         1         0   FLU  \n",
       "2                0         0         0   FLU  \n",
       "3                0         1         0   FLU  \n",
       "4                0         0         0   FLU  \n",
       "\n",
       "[5 rows x 21 columns]"
      ]
     },
     "execution_count": 2,
     "metadata": {},
     "output_type": "execute_result"
    }
   ],
   "source": [
    "ml_test_df.head()"
   ]
  },
  {
   "cell_type": "code",
   "execution_count": 3,
   "id": "2db27480",
   "metadata": {},
   "outputs": [
    {
     "data": {
      "text/html": [
       "<div>\n",
       "<style scoped>\n",
       "    .dataframe tbody tr th:only-of-type {\n",
       "        vertical-align: middle;\n",
       "    }\n",
       "\n",
       "    .dataframe tbody tr th {\n",
       "        vertical-align: top;\n",
       "    }\n",
       "\n",
       "    .dataframe thead th {\n",
       "        text-align: right;\n",
       "    }\n",
       "</style>\n",
       "<table border=\"1\" class=\"dataframe\">\n",
       "  <thead>\n",
       "    <tr style=\"text-align: right;\">\n",
       "      <th></th>\n",
       "      <th>COUGH</th>\n",
       "      <th>MUSCLE_ACHES</th>\n",
       "      <th>TIREDNESS</th>\n",
       "      <th>SORE_THROAT</th>\n",
       "      <th>RUNNY_NOSE</th>\n",
       "      <th>STUFFY_NOSE</th>\n",
       "      <th>FEVER</th>\n",
       "      <th>NAUSEA</th>\n",
       "      <th>VOMITING</th>\n",
       "      <th>DIARRHEA</th>\n",
       "      <th>...</th>\n",
       "      <th>DIFFICULTY_BREATHING</th>\n",
       "      <th>LOSS_OF_TASTE</th>\n",
       "      <th>LOSS_OF_SMELL</th>\n",
       "      <th>ITCHY_NOSE</th>\n",
       "      <th>ITCHY_EYES</th>\n",
       "      <th>ITCHY_MOUTH</th>\n",
       "      <th>ITCHY_INNER_EAR</th>\n",
       "      <th>SNEEZING</th>\n",
       "      <th>PINK_EYE</th>\n",
       "      <th>TYPE</th>\n",
       "    </tr>\n",
       "  </thead>\n",
       "  <tbody>\n",
       "    <tr>\n",
       "      <th>0</th>\n",
       "      <td>1</td>\n",
       "      <td>0</td>\n",
       "      <td>1</td>\n",
       "      <td>1</td>\n",
       "      <td>0</td>\n",
       "      <td>1</td>\n",
       "      <td>0</td>\n",
       "      <td>0</td>\n",
       "      <td>0</td>\n",
       "      <td>0</td>\n",
       "      <td>...</td>\n",
       "      <td>0</td>\n",
       "      <td>1</td>\n",
       "      <td>1</td>\n",
       "      <td>1</td>\n",
       "      <td>1</td>\n",
       "      <td>1</td>\n",
       "      <td>0</td>\n",
       "      <td>1</td>\n",
       "      <td>1</td>\n",
       "      <td>ALLERGY</td>\n",
       "    </tr>\n",
       "    <tr>\n",
       "      <th>1</th>\n",
       "      <td>1</td>\n",
       "      <td>1</td>\n",
       "      <td>0</td>\n",
       "      <td>0</td>\n",
       "      <td>1</td>\n",
       "      <td>0</td>\n",
       "      <td>0</td>\n",
       "      <td>0</td>\n",
       "      <td>1</td>\n",
       "      <td>1</td>\n",
       "      <td>...</td>\n",
       "      <td>1</td>\n",
       "      <td>1</td>\n",
       "      <td>1</td>\n",
       "      <td>0</td>\n",
       "      <td>0</td>\n",
       "      <td>0</td>\n",
       "      <td>0</td>\n",
       "      <td>1</td>\n",
       "      <td>0</td>\n",
       "      <td>FLU</td>\n",
       "    </tr>\n",
       "    <tr>\n",
       "      <th>2</th>\n",
       "      <td>1</td>\n",
       "      <td>1</td>\n",
       "      <td>0</td>\n",
       "      <td>0</td>\n",
       "      <td>1</td>\n",
       "      <td>1</td>\n",
       "      <td>0</td>\n",
       "      <td>0</td>\n",
       "      <td>0</td>\n",
       "      <td>0</td>\n",
       "      <td>...</td>\n",
       "      <td>0</td>\n",
       "      <td>1</td>\n",
       "      <td>1</td>\n",
       "      <td>0</td>\n",
       "      <td>0</td>\n",
       "      <td>0</td>\n",
       "      <td>1</td>\n",
       "      <td>0</td>\n",
       "      <td>1</td>\n",
       "      <td>ALLERGY</td>\n",
       "    </tr>\n",
       "    <tr>\n",
       "      <th>3</th>\n",
       "      <td>1</td>\n",
       "      <td>1</td>\n",
       "      <td>0</td>\n",
       "      <td>0</td>\n",
       "      <td>1</td>\n",
       "      <td>0</td>\n",
       "      <td>1</td>\n",
       "      <td>0</td>\n",
       "      <td>0</td>\n",
       "      <td>0</td>\n",
       "      <td>...</td>\n",
       "      <td>0</td>\n",
       "      <td>0</td>\n",
       "      <td>0</td>\n",
       "      <td>0</td>\n",
       "      <td>0</td>\n",
       "      <td>0</td>\n",
       "      <td>0</td>\n",
       "      <td>0</td>\n",
       "      <td>0</td>\n",
       "      <td>FLU</td>\n",
       "    </tr>\n",
       "    <tr>\n",
       "      <th>4</th>\n",
       "      <td>1</td>\n",
       "      <td>0</td>\n",
       "      <td>1</td>\n",
       "      <td>1</td>\n",
       "      <td>1</td>\n",
       "      <td>1</td>\n",
       "      <td>1</td>\n",
       "      <td>1</td>\n",
       "      <td>1</td>\n",
       "      <td>0</td>\n",
       "      <td>...</td>\n",
       "      <td>1</td>\n",
       "      <td>0</td>\n",
       "      <td>0</td>\n",
       "      <td>0</td>\n",
       "      <td>0</td>\n",
       "      <td>0</td>\n",
       "      <td>0</td>\n",
       "      <td>1</td>\n",
       "      <td>0</td>\n",
       "      <td>FLU</td>\n",
       "    </tr>\n",
       "  </tbody>\n",
       "</table>\n",
       "<p>5 rows × 21 columns</p>\n",
       "</div>"
      ],
      "text/plain": [
       "   COUGH  MUSCLE_ACHES  TIREDNESS  SORE_THROAT  RUNNY_NOSE  STUFFY_NOSE  \\\n",
       "0      1             0          1            1           0            1   \n",
       "1      1             1          0            0           1            0   \n",
       "2      1             1          0            0           1            1   \n",
       "3      1             1          0            0           1            0   \n",
       "4      1             0          1            1           1            1   \n",
       "\n",
       "   FEVER  NAUSEA  VOMITING  DIARRHEA  ...  DIFFICULTY_BREATHING  \\\n",
       "0      0       0         0         0  ...                     0   \n",
       "1      0       0         1         1  ...                     1   \n",
       "2      0       0         0         0  ...                     0   \n",
       "3      1       0         0         0  ...                     0   \n",
       "4      1       1         1         0  ...                     1   \n",
       "\n",
       "   LOSS_OF_TASTE  LOSS_OF_SMELL  ITCHY_NOSE  ITCHY_EYES  ITCHY_MOUTH  \\\n",
       "0              1              1           1           1            1   \n",
       "1              1              1           0           0            0   \n",
       "2              1              1           0           0            0   \n",
       "3              0              0           0           0            0   \n",
       "4              0              0           0           0            0   \n",
       "\n",
       "   ITCHY_INNER_EAR  SNEEZING  PINK_EYE     TYPE  \n",
       "0                0         1         1  ALLERGY  \n",
       "1                0         1         0      FLU  \n",
       "2                1         0         1  ALLERGY  \n",
       "3                0         0         0      FLU  \n",
       "4                0         1         0      FLU  \n",
       "\n",
       "[5 rows x 21 columns]"
      ]
     },
     "execution_count": 3,
     "metadata": {},
     "output_type": "execute_result"
    }
   ],
   "source": [
    "ml_train_df.head()"
   ]
  },
  {
   "cell_type": "code",
   "execution_count": 4,
   "id": "689a6276",
   "metadata": {},
   "outputs": [
    {
     "data": {
      "text/plain": [
       "Index(['COUGH', 'MUSCLE_ACHES', 'TIREDNESS', 'SORE_THROAT', 'RUNNY_NOSE',\n",
       "       'STUFFY_NOSE', 'FEVER', 'NAUSEA', 'VOMITING', 'DIARRHEA',\n",
       "       'SHORTNESS_OF_BREATH', 'DIFFICULTY_BREATHING', 'LOSS_OF_TASTE',\n",
       "       'LOSS_OF_SMELL', 'ITCHY_NOSE', 'ITCHY_EYES', 'ITCHY_MOUTH',\n",
       "       'ITCHY_INNER_EAR', 'SNEEZING', 'PINK_EYE', 'TYPE'],\n",
       "      dtype='object')"
      ]
     },
     "execution_count": 4,
     "metadata": {},
     "output_type": "execute_result"
    }
   ],
   "source": [
    "ml_test_df.columns"
   ]
  },
  {
   "cell_type": "code",
   "execution_count": 5,
   "id": "f70fad62",
   "metadata": {},
   "outputs": [
    {
     "data": {
      "text/plain": [
       "Index(['COUGH', 'MUSCLE_ACHES', 'TIREDNESS', 'SORE_THROAT', 'RUNNY_NOSE',\n",
       "       'STUFFY_NOSE', 'FEVER', 'NAUSEA', 'VOMITING', 'DIARRHEA',\n",
       "       'SHORTNESS_OF_BREATH', 'DIFFICULTY_BREATHING', 'LOSS_OF_TASTE',\n",
       "       'LOSS_OF_SMELL', 'ITCHY_NOSE', 'ITCHY_EYES', 'ITCHY_MOUTH',\n",
       "       'ITCHY_INNER_EAR', 'SNEEZING', 'PINK_EYE', 'TYPE'],\n",
       "      dtype='object')"
      ]
     },
     "execution_count": 5,
     "metadata": {},
     "output_type": "execute_result"
    }
   ],
   "source": [
    "ml_train_df.columns"
   ]
  },
  {
   "cell_type": "code",
   "execution_count": 6,
   "id": "c591e450",
   "metadata": {},
   "outputs": [
    {
     "name": "stdout",
     "output_type": "stream",
     "text": [
      "<class 'pandas.core.frame.DataFrame'>\n",
      "RangeIndex: 40007 entries, 0 to 40006\n",
      "Data columns (total 21 columns):\n",
      " #   Column                Non-Null Count  Dtype \n",
      "---  ------                --------------  ----- \n",
      " 0   COUGH                 40007 non-null  int64 \n",
      " 1   MUSCLE_ACHES          40007 non-null  int64 \n",
      " 2   TIREDNESS             40007 non-null  int64 \n",
      " 3   SORE_THROAT           40007 non-null  int64 \n",
      " 4   RUNNY_NOSE            40007 non-null  int64 \n",
      " 5   STUFFY_NOSE           40007 non-null  int64 \n",
      " 6   FEVER                 40007 non-null  int64 \n",
      " 7   NAUSEA                40007 non-null  int64 \n",
      " 8   VOMITING              40007 non-null  int64 \n",
      " 9   DIARRHEA              40007 non-null  int64 \n",
      " 10  SHORTNESS_OF_BREATH   40007 non-null  int64 \n",
      " 11  DIFFICULTY_BREATHING  40007 non-null  int64 \n",
      " 12  LOSS_OF_TASTE         40007 non-null  int64 \n",
      " 13  LOSS_OF_SMELL         40007 non-null  int64 \n",
      " 14  ITCHY_NOSE            40007 non-null  int64 \n",
      " 15  ITCHY_EYES            40007 non-null  int64 \n",
      " 16  ITCHY_MOUTH           40007 non-null  int64 \n",
      " 17  ITCHY_INNER_EAR       40007 non-null  int64 \n",
      " 18  SNEEZING              40007 non-null  int64 \n",
      " 19  PINK_EYE              40007 non-null  int64 \n",
      " 20  TYPE                  40007 non-null  object\n",
      "dtypes: int64(20), object(1)\n",
      "memory usage: 6.4+ MB\n"
     ]
    }
   ],
   "source": [
    "ml_train_df.info()"
   ]
  },
  {
   "cell_type": "code",
   "execution_count": 7,
   "id": "48fe5f53",
   "metadata": {
    "scrolled": true
   },
   "outputs": [
    {
     "name": "stdout",
     "output_type": "stream",
     "text": [
      "<class 'pandas.core.frame.DataFrame'>\n",
      "RangeIndex: 4446 entries, 0 to 4445\n",
      "Data columns (total 21 columns):\n",
      " #   Column                Non-Null Count  Dtype \n",
      "---  ------                --------------  ----- \n",
      " 0   COUGH                 4446 non-null   int64 \n",
      " 1   MUSCLE_ACHES          4446 non-null   int64 \n",
      " 2   TIREDNESS             4446 non-null   int64 \n",
      " 3   SORE_THROAT           4446 non-null   int64 \n",
      " 4   RUNNY_NOSE            4446 non-null   int64 \n",
      " 5   STUFFY_NOSE           4446 non-null   int64 \n",
      " 6   FEVER                 4446 non-null   int64 \n",
      " 7   NAUSEA                4446 non-null   int64 \n",
      " 8   VOMITING              4446 non-null   int64 \n",
      " 9   DIARRHEA              4446 non-null   int64 \n",
      " 10  SHORTNESS_OF_BREATH   4446 non-null   int64 \n",
      " 11  DIFFICULTY_BREATHING  4446 non-null   int64 \n",
      " 12  LOSS_OF_TASTE         4446 non-null   int64 \n",
      " 13  LOSS_OF_SMELL         4446 non-null   int64 \n",
      " 14  ITCHY_NOSE            4446 non-null   int64 \n",
      " 15  ITCHY_EYES            4446 non-null   int64 \n",
      " 16  ITCHY_MOUTH           4446 non-null   int64 \n",
      " 17  ITCHY_INNER_EAR       4446 non-null   int64 \n",
      " 18  SNEEZING              4446 non-null   int64 \n",
      " 19  PINK_EYE              4446 non-null   int64 \n",
      " 20  TYPE                  4446 non-null   object\n",
      "dtypes: int64(20), object(1)\n",
      "memory usage: 729.5+ KB\n"
     ]
    }
   ],
   "source": [
    "ml_test_df.info()"
   ]
  },
  {
   "cell_type": "code",
   "execution_count": 8,
   "id": "a6adc1c4",
   "metadata": {},
   "outputs": [
    {
     "name": "stdout",
     "output_type": "stream",
     "text": [
      "Training Data Shape: (40007, 21)\n"
     ]
    }
   ],
   "source": [
    "print(\"Training Data Shape:\",ml_train_df.shape)"
   ]
  },
  {
   "cell_type": "code",
   "execution_count": 9,
   "id": "e0396a82",
   "metadata": {},
   "outputs": [
    {
     "name": "stdout",
     "output_type": "stream",
     "text": [
      "Test Data Shape: (4446, 21)\n"
     ]
    }
   ],
   "source": [
    "print(\"Test Data Shape:\",ml_test_df.shape)"
   ]
  },
  {
   "cell_type": "code",
   "execution_count": 10,
   "id": "b1f2c810",
   "metadata": {},
   "outputs": [
    {
     "name": "stdout",
     "output_type": "stream",
     "text": [
      "Training Data Summary:\n",
      "               COUGH  MUSCLE_ACHES     TIREDNESS   SORE_THROAT    RUNNY_NOSE  \\\n",
      "count  40007.000000  40007.000000  40007.000000  40007.000000  40007.000000   \n",
      "mean       0.521709      0.520559      0.518509      0.519034      0.496113   \n",
      "std        0.499535      0.499583      0.499664      0.499644      0.499991   \n",
      "min        0.000000      0.000000      0.000000      0.000000      0.000000   \n",
      "25%        0.000000      0.000000      0.000000      0.000000      0.000000   \n",
      "50%        1.000000      1.000000      1.000000      1.000000      0.000000   \n",
      "75%        1.000000      1.000000      1.000000      1.000000      1.000000   \n",
      "max        1.000000      1.000000      1.000000      1.000000      1.000000   \n",
      "\n",
      "        STUFFY_NOSE         FEVER        NAUSEA      VOMITING      DIARRHEA  \\\n",
      "count  40007.000000  40007.000000  40007.000000  40007.000000  40007.000000   \n",
      "mean       0.495488      0.323943      0.324518      0.324143      0.323168   \n",
      "std        0.499986      0.467985      0.468200      0.468060      0.467692   \n",
      "min        0.000000      0.000000      0.000000      0.000000      0.000000   \n",
      "25%        0.000000      0.000000      0.000000      0.000000      0.000000   \n",
      "50%        0.000000      0.000000      0.000000      0.000000      0.000000   \n",
      "75%        1.000000      1.000000      1.000000      1.000000      1.000000   \n",
      "max        1.000000      1.000000      1.000000      1.000000      1.000000   \n",
      "\n",
      "       SHORTNESS_OF_BREATH  DIFFICULTY_BREATHING  LOSS_OF_TASTE  \\\n",
      "count         40007.000000          40007.000000   40007.000000   \n",
      "mean              0.324443              0.324168       0.421526   \n",
      "std               0.468172              0.468069       0.493810   \n",
      "min               0.000000              0.000000       0.000000   \n",
      "25%               0.000000              0.000000       0.000000   \n",
      "50%               0.000000              0.000000       0.000000   \n",
      "75%               1.000000              1.000000       1.000000   \n",
      "max               1.000000              1.000000       1.000000   \n",
      "\n",
      "       LOSS_OF_SMELL    ITCHY_NOSE    ITCHY_EYES   ITCHY_MOUTH  \\\n",
      "count   40007.000000  40007.000000  40007.000000  40007.000000   \n",
      "mean        0.423376      0.183943      0.184468      0.183343   \n",
      "std         0.494100      0.387442      0.387870      0.386952   \n",
      "min         0.000000      0.000000      0.000000      0.000000   \n",
      "25%         0.000000      0.000000      0.000000      0.000000   \n",
      "50%         0.000000      0.000000      0.000000      0.000000   \n",
      "75%         1.000000      0.000000      0.000000      0.000000   \n",
      "max         1.000000      1.000000      1.000000      1.000000   \n",
      "\n",
      "       ITCHY_INNER_EAR      SNEEZING      PINK_EYE  \n",
      "count     40007.000000  40007.000000  40007.000000  \n",
      "mean          0.184618      0.520584      0.183993  \n",
      "std           0.387992      0.499582      0.387483  \n",
      "min           0.000000      0.000000      0.000000  \n",
      "25%           0.000000      0.000000      0.000000  \n",
      "50%           0.000000      1.000000      0.000000  \n",
      "75%           0.000000      1.000000      0.000000  \n",
      "max           1.000000      1.000000      1.000000  \n"
     ]
    }
   ],
   "source": [
    "print(\"Training Data Summary:\\n\",ml_train_df.describe())"
   ]
  },
  {
   "cell_type": "code",
   "execution_count": 11,
   "id": "6457579e",
   "metadata": {},
   "outputs": [
    {
     "name": "stdout",
     "output_type": "stream",
     "text": [
      "Class Distribution:\n",
      " FLU        22499\n",
      "ALLERGY    14729\n",
      "COVID       1849\n",
      "COLD         930\n",
      "Name: TYPE, dtype: int64\n"
     ]
    }
   ],
   "source": [
    "print(\"Class Distribution:\\n\", ml_train_df['TYPE'].value_counts())"
   ]
  },
  {
   "cell_type": "code",
   "execution_count": 12,
   "id": "f16479f4",
   "metadata": {},
   "outputs": [
    {
     "data": {
      "text/plain": [
       "<AxesSubplot:xlabel='TYPE', ylabel='count'>"
      ]
     },
     "execution_count": 12,
     "metadata": {},
     "output_type": "execute_result"
    },
    {
     "data": {
      "image/png": "[encoded data removed]",
      "text/plain": [
       "<Figure size 432x288 with 1 Axes>"
      ]
     },
     "metadata": {
      "needs_background": "light"
     },
     "output_type": "display_data"
    }
   ],
   "source": [
    "sns.countplot(data=ml_train_df,x=\"TYPE\")"
   ]
  },
  {
   "cell_type": "code",
   "execution_count": 13,
   "id": "44910d7e",
   "metadata": {},
   "outputs": [
    {
     "data": {
      "text/plain": [
       "(<module 'numpy' from 'C:\\\\Users\\\\kiran\\\\anaconda3\\\\lib\\\\site-packages\\\\numpy\\\\__init__.py'>,\n",
       " FLU        56.238\n",
       " ALLERGY    36.816\n",
       " COVID       4.622\n",
       " COLD        2.325\n",
       " Name: TYPE, dtype: float64)"
      ]
     },
     "execution_count": 13,
     "metadata": {},
     "output_type": "execute_result"
    },
    {
     "data": {
      "image/png": "[encoded data removed]",
      "text/plain": [
       "<Figure size 432x504 with 1 Axes>"
      ]
     },
     "metadata": {},
     "output_type": "display_data"
    }
   ],
   "source": [
    "def piechart(df,variable):\n",
    "    PieChart = df[variable].value_counts()\n",
    "    length_axis=PieChart.plot.pie(figsize=(6,7),autopct=\"%1.2f\",fontsize=17)\n",
    "    length_axis.set_title(variable+\"\\n\"+\"Pie Chart Representation\",fontsize=12)\n",
    "    return np,round(PieChart/df.shape[0]*100,3)\n",
    "piechart(ml_train_df,\"TYPE\")"
   ]
  },
  {
   "cell_type": "code",
   "execution_count": 14,
   "id": "4b8519b3",
   "metadata": {},
   "outputs": [
    {
     "data": {
      "text/plain": [
       "array(['ALLERGY', 'COLD', 'COVID', 'FLU'], dtype=object)"
      ]
     },
     "execution_count": 14,
     "metadata": {},
     "output_type": "execute_result"
    }
   ],
   "source": [
    "lae=LabelEncoder()\n",
    "ml_train_df['TYPE']=lae.fit_transform(ml_train_df['TYPE'])\n",
    "ml_test_df['TYPE']=lae.transform(ml_test_df['TYPE'])\n",
    "lae.classes_"
   ]
  },
  {
   "cell_type": "code",
   "execution_count": 15,
   "id": "4e64dbfc",
   "metadata": {},
   "outputs": [],
   "source": [
    "x_train=ml_train_df.drop(columns=['TYPE'])\n",
    "y_train=ml_train_df['TYPE']\n",
    "x_test=ml_test_df.drop(columns=['TYPE'])\n",
    "y_test=ml_test_df['TYPE']"
   ]
  },
  {
   "cell_type": "code",
   "execution_count": 16,
   "id": "490c6f65",
   "metadata": {},
   "outputs": [],
   "source": [
    "scaler = StandardScaler()\n",
    "x_train_scaled = scaler.fit_transform(x_train)\n",
    "x_test_scaled = scaler.transform(x_test)"
   ]
  },
  {
   "cell_type": "code",
   "execution_count": 17,
   "id": "cf572ced",
   "metadata": {},
   "outputs": [
    {
     "name": "stdout",
     "output_type": "stream",
     "text": [
      "Class Distribution:\n",
      " 3    22499\n",
      "0    14729\n",
      "2     1849\n",
      "1      930\n",
      "Name: TYPE, dtype: int64\n"
     ]
    }
   ],
   "source": [
    "print(\"Class Distribution:\\n\", ml_train_df['TYPE'].value_counts())"
   ]
  },
  {
   "cell_type": "code",
   "execution_count": 18,
   "id": "6bfb5a8e",
   "metadata": {},
   "outputs": [],
   "source": [
    "from imblearn.over_sampling import SMOTE\n",
    "smote = SMOTE(random_state=42)\n",
    "x_resampled, y_resampled = smote.fit_resample(x_train_scaled, y_train)"
   ]
  },
  {
   "cell_type": "code",
   "execution_count": 19,
   "id": "426832fb",
   "metadata": {},
   "outputs": [],
   "source": [
    "train_resampled_df = pd.DataFrame(x_resampled, columns=x_train.columns)\n",
    "train_resampled_df['TYPE'] = y_resampled"
   ]
  },
  {
   "cell_type": "code",
   "execution_count": 20,
   "id": "9230dcd4",
   "metadata": {},
   "outputs": [
    {
     "name": "stdout",
     "output_type": "stream",
     "text": [
      "Resampled Class Distribution:\n",
      " 0    22499\n",
      "3    22499\n",
      "2    22499\n",
      "1    22499\n",
      "Name: TYPE, dtype: int64\n"
     ]
    }
   ],
   "source": [
    "print(\"Resampled Class Distribution:\\n\", train_resampled_df['TYPE'].value_counts())"
   ]
  },
  {
   "cell_type": "code",
   "execution_count": 21,
   "id": "4768c5f1",
   "metadata": {},
   "outputs": [],
   "source": [
    "from sklearn.tree import DecisionTreeClassifier\n",
    "DecisionTreeClassifier = DecisionTreeClassifier(random_state=42)\n",
    "DecisionTreeClassifier.fit(x_resampled,y_resampled)\n",
    "DecisionTreeClassifier_prediction =DecisionTreeClassifier.predict(x_test_scaled)"
   ]
  },
  {
   "cell_type": "code",
   "execution_count": 22,
   "id": "d04a509f",
   "metadata": {},
   "outputs": [
    {
     "name": "stdout",
     "output_type": "stream",
     "text": [
      "Accuracy score of decision tree Model : 87.22447143499775\n"
     ]
    }
   ],
   "source": [
    "print(\"Accuracy score of decision tree Model :\",accuracy_score(y_test,DecisionTreeClassifier_prediction)*100)"
   ]
  },
  {
   "cell_type": "code",
   "execution_count": 23,
   "id": "d7ce54c9",
   "metadata": {},
   "outputs": [
    {
     "name": "stdout",
     "output_type": "stream",
     "text": [
      "Confusion Matrix of Decision Tree Model\n",
      "-------------------\n",
      " [[1598   51    0    3]\n",
      " [  42   24    3   25]\n",
      " [   1    5   14  179]\n",
      " [  24   28  207 2242]]\n"
     ]
    }
   ],
   "source": [
    "from sklearn.metrics import accuracy_score, classification_report, confusion_matrix\n",
    "decision_confusion_matrix=(confusion_matrix(y_test,DecisionTreeClassifier_prediction))\n",
    "print(\"Confusion Matrix of Decision Tree Model\\n-------------------\\n\",decision_confusion_matrix)"
   ]
  },
  {
   "cell_type": "code",
   "execution_count": 24,
   "id": "f80ae19d",
   "metadata": {},
   "outputs": [
    {
     "name": "stdout",
     "output_type": "stream",
     "text": [
      "F1 score of Decision tree Model : 87.55732446189599\n"
     ]
    }
   ],
   "source": [
    "print(\"F1 score of Decision tree Model :\",f1_score(y_test,DecisionTreeClassifier_prediction,average=\"weighted\")*100)"
   ]
  },
  {
   "cell_type": "code",
   "execution_count": 25,
   "id": "762ab40c",
   "metadata": {},
   "outputs": [
    {
     "name": "stdout",
     "output_type": "stream",
     "text": [
      "Classification report of deision Model\n",
      "----------------------------------------------------\n",
      "              precision    recall  f1-score   support\n",
      "\n",
      "           0       0.96      0.97      0.96      1652\n",
      "           1       0.22      0.26      0.24        94\n",
      "           2       0.06      0.07      0.07       199\n",
      "           3       0.92      0.90      0.91      2501\n",
      "\n",
      "    accuracy                           0.87      4446\n",
      "   macro avg       0.54      0.55      0.54      4446\n",
      "weighted avg       0.88      0.87      0.88      4446\n",
      "\n"
     ]
    }
   ],
   "source": [
    "print(\"Classification report of decision Model\\n----------------------------------------------------\\n\"+ classification_report(y_test,DecisionTreeClassifier_prediction))"
   ]
  },
  {
   "cell_type": "code",
   "execution_count": 26,
   "id": "ba9010e9",
   "metadata": {},
   "outputs": [],
   "source": [
    "svm = SVC(kernel='rbf', C=1.0, gamma='scale', random_state=42)\n",
    "svm.fit(x_resampled, y_resampled)\n",
    "svm_predictions = svm.predict(x_test_scaled)"
   ]
  },
  {
   "cell_type": "code",
   "execution_count": 27,
   "id": "a2f0cba8",
   "metadata": {},
   "outputs": [
    {
     "name": "stdout",
     "output_type": "stream",
     "text": [
      "Accuracy score of svm Model : 92.60008996851103\n"
     ]
    }
   ],
   "source": [
    "print(\"Accuracy score of svm Model :\",accuracy_score(y_test,svm_predictions)*100)"
   ]
  },
  {
   "cell_type": "code",
   "execution_count": 28,
   "id": "c921cd2f",
   "metadata": {},
   "outputs": [
    {
     "name": "stdout",
     "output_type": "stream",
     "text": [
      "Confusion Matrix of SVM Tree Model\n",
      "-------------------\n",
      " [[1595   57    0    0]\n",
      " [   0   94    0    0]\n",
      " [   0    6  193    0]\n",
      " [   0   53  213 2235]]\n"
     ]
    }
   ],
   "source": [
    "from sklearn.metrics import accuracy_score, classification_report, confusion_matrix\n",
    "svm_confusion_matrix=(confusion_matrix(y_test,svm_predictions))\n",
    "print(\"Confusion Matrix of SVM Tree Model\\n-------------------\\n\",svm_confusion_matrix)"
   ]
  },
  {
   "cell_type": "code",
   "execution_count": 29,
   "id": "e160cc0a",
   "metadata": {},
   "outputs": [
    {
     "name": "stdout",
     "output_type": "stream",
     "text": [
      "F1 score of SVM Model : 93.76128077676745\n"
     ]
    }
   ],
   "source": [
    "print(\"F1 score of SVM Model :\",f1_score(y_test,svm_predictions,average=\"weighted\")*100)"
   ]
  },
  {
   "cell_type": "code",
   "execution_count": 30,
   "id": "a3152250",
   "metadata": {},
   "outputs": [
    {
     "name": "stdout",
     "output_type": "stream",
     "text": [
      "Classification report of SVM Model\n",
      "----------------------------------------------------\n",
      "              precision    recall  f1-score   support\n",
      "\n",
      "           0       1.00      0.97      0.98      1652\n",
      "           1       0.45      1.00      0.62        94\n",
      "           2       0.48      0.97      0.64       199\n",
      "           3       1.00      0.89      0.94      2501\n",
      "\n",
      "    accuracy                           0.93      4446\n",
      "   macro avg       0.73      0.96      0.80      4446\n",
      "weighted avg       0.96      0.93      0.94      4446\n",
      "\n"
     ]
    }
   ],
   "source": [
    "print(\"Classification report of SVM Model\\n----------------------------------------------------\\n\"+ classification_report(y_test,svm_predictions))"
   ]
  },
  {
   "cell_type": "code",
   "execution_count": 31,
   "id": "8f3dbe74",
   "metadata": {},
   "outputs": [],
   "source": [
    "pca = PCA(n_components=2)\n",
    "x_resampled_pca = pca.fit_transform(x_resampled)"
   ]
  },
  {
   "cell_type": "code",
   "execution_count": 32,
   "id": "2946be5a",
   "metadata": {},
   "outputs": [],
   "source": [
    "from sklearn.cluster import KMeans\n",
    "Kmeans=KMeans(n_clusters=4,max_iter=200,random_state=42)\n",
    "Kmeans_labels =Kmeans.fit_predict(x_resampled_pca)\n",
    "cluster_centers=Kmeans.cluster_centers_"
   ]
  },
  {
   "cell_type": "code",
   "execution_count": 33,
   "id": "1ade48e6",
   "metadata": {},
   "outputs": [
    {
     "data": {
      "text/plain": [
       "Text(0, 0.5, 'PCA Component 2')"
      ]
     },
     "execution_count": 33,
     "metadata": {},
     "output_type": "execute_result"
    },
    {
     "data": {
      "image/png": "[encoded data removed]",
      "text/plain": [
       "<Figure size 864x360 with 1 Axes>"
      ]
     },
     "metadata": {
      "needs_background": "light"
     },
     "output_type": "display_data"
    }
   ],
   "source": [
    "plt.figure(figsize=(12,5))\n",
    "plt.subplot(1,2,1)\n",
    "plt.scatter(x_resampled_pca[:,0],x_resampled_pca[:,1],c=Kmeans_labels,cmap=\"flare\")\n",
    "plt.scatter(cluster_centers[:,0],cluster_centers[:,1],color=\"black\",marker=\"+\",s=150)\n",
    "plt.title(\"KMeans Clustering Train Map\")\n",
    "plt.xlabel(\"PCA Component 1\")\n",
    "plt.ylabel(\"PCA Component 2\")"
   ]
  },
  {
   "cell_type": "code",
   "execution_count": 41,
   "id": "32fdf091",
   "metadata": {},
   "outputs": [
    {
     "name": "stdout",
     "output_type": "stream",
     "text": [
      "Silhouette Score for Kmeans  0.42734288936430675\n"
     ]
    }
   ],
   "source": [
    "silhouette_avg_kmeans = silhouette_score(x_resampled_pca, Kmeans_labels)\n",
    "print(\"Silhouette Score for Kmeans \",silhouette_avg_kmeans)"
   ]
  },
  {
   "cell_type": "code",
   "execution_count": 35,
   "id": "9c022e19",
   "metadata": {},
   "outputs": [
    {
     "name": "stdout",
     "output_type": "stream",
     "text": [
      "Adjusted Rand Index: 0.5455547960772029\n"
     ]
    }
   ],
   "source": [
    "from sklearn.metrics import adjusted_rand_score\n",
    "ari_score_kmeans = adjusted_rand_score(y_resampled, Kmeans_labels)\n",
    "print(\"Adjusted Rand Index:\",ari_score_kmeans)"
   ]
  },
  {
   "cell_type": "code",
   "execution_count": 36,
   "id": "ed2fdfb6",
   "metadata": {},
   "outputs": [
    {
     "data": {
      "text/plain": [
       "GaussianMixture(n_components=4, random_state=42)"
      ]
     },
     "execution_count": 36,
     "metadata": {},
     "output_type": "execute_result"
    }
   ],
   "source": [
    "gmm = GaussianMixture(n_components=len(np.unique(y_resampled)), random_state=42)\n",
    "gmm.fit(x_resampled_pca)"
   ]
  },
  {
   "cell_type": "code",
   "execution_count": 37,
   "id": "9c1fc4a5",
   "metadata": {},
   "outputs": [],
   "source": [
    "gmm = GaussianMixture(n_components=4, random_state=42)\n",
    "gmm_labels = gmm.fit_predict(x_resampled_pca)\n",
    "cluster_centers = gmm.means_"
   ]
  },
  {
   "cell_type": "code",
   "execution_count": 38,
   "id": "4882fce2",
   "metadata": {},
   "outputs": [
    {
     "data": {
      "image/png": "[encoded data removed]",
      "text/plain": [
       "<Figure size 576x432 with 1 Axes>"
      ]
     },
     "metadata": {
      "needs_background": "light"
     },
     "output_type": "display_data"
    }
   ],
   "source": [
    "plt.figure(figsize=(8, 6))\n",
    "sns.scatterplot(x=x_resampled_pca[:, 0], y=x_resampled_pca[:, 1], hue=gmm_labels, palette=\"flare\", legend=\"full\")\n",
    "plt.scatter(cluster_centers[:, 0], cluster_centers[:, 1], s=200, c='red', label='Cluster Centers', marker='X')\n",
    "plt.title(\"GMM Clustering with Cluster Centers\")\n",
    "plt.xlabel(\"PCA Component 1\")\n",
    "plt.ylabel(\"PCA Component 2\")\n",
    "plt.legend()\n",
    "plt.show()\n"
   ]
  },
  {
   "cell_type": "code",
   "execution_count": 39,
   "id": "a9ad01f7",
   "metadata": {},
   "outputs": [
    {
     "name": "stdout",
     "output_type": "stream",
     "text": [
      "Silhouette Score for GMM  0.4014092180922123\n"
     ]
    }
   ],
   "source": [
    "silhouette_avg_gaussian = silhouette_score(x_resampled_pca, gmm_labels)\n",
    "print(\"Silhouette Score for GMM \",silhouette_avg_gaussian)"
   ]
  },
  {
   "cell_type": "code",
   "execution_count": 40,
   "id": "788b3555",
   "metadata": {},
   "outputs": [
    {
     "name": "stdout",
     "output_type": "stream",
     "text": [
      "Adjusted Rand Index: 0.6510840128646928\n"
     ]
    }
   ],
   "source": [
    "from sklearn.metrics import adjusted_rand_score\n",
    "ari_score_gaussian = adjusted_rand_score(y_resampled, gmm_labels)\n",
    "print(\"Adjusted Rand Index:\",ari_score_gaussian)"
   ]
  },
  {
   "cell_type": "code",
   "execution_count": null,
   "id": "00f6dcec",
   "metadata": {},
   "outputs": [],
   "source": []
  }
 ],
 "metadata": {
  "kernelspec": {
   "display_name": "Python 3 (ipykernel)",
   "language": "python",
   "name": "python3"
  },
  "language_info": {
   "codemirror_mode": {
    "name": "ipython",
    "version": 3
   },
   "file_extension": ".py",
   "mimetype": "text/x-python",
   "name": "python",
   "nbconvert_exporter": "python",
   "pygments_lexer": "ipython3",
   "version": "3.9.12"
  }
 },
 "nbformat": 4,
 "nbformat_minor": 5
}
